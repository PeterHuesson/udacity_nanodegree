{
 "cells": [
  {
   "cell_type": "code",
   "execution_count": 601,
   "metadata": {},
   "outputs": [],
   "source": [
    "import tensorflow as tf\n",
    "import keras\n",
    "import pandas as pd\n",
    "import matplotlib.pyplot as plt\n",
    "import numpy as np\n",
    "import seaborn as sns\n",
    "from sklearn import preprocessing\n",
    "from sklearn.preprocessing import StandardScaler\n",
    "scal = StandardScaler()\n",
    "import time\n",
    "import datetime\n",
    "sns.set()\n",
    "# magic word for producing visualizations in notebook\n",
    "%matplotlib inline\n",
    "\n",
    "fileToRead_1=('C:/Dokumente/10_Innovation_Hub/30_Kurs/Blog/data/survey_results_public.csv')\n",
    "df=pd.read_csv(fileToRead_1)\n",
    "df=results_public\n",
    "\n",
    "fileToRead_2=('C:/Dokumente/10_Innovation_Hub/30_Kurs/Blog/data/survey_results_schema.csv')\n",
    "results_schema=pd.read_csv(fileToRead_2)"
   ]
  },
  {
   "cell_type": "code",
   "execution_count": 602,
   "metadata": {
    "scrolled": true
   },
   "outputs": [
    {
     "data": {
      "text/html": [
       "<div>\n",
       "<style scoped>\n",
       "    .dataframe tbody tr th:only-of-type {\n",
       "        vertical-align: middle;\n",
       "    }\n",
       "\n",
       "    .dataframe tbody tr th {\n",
       "        vertical-align: top;\n",
       "    }\n",
       "\n",
       "    .dataframe thead th {\n",
       "        text-align: right;\n",
       "    }\n",
       "</style>\n",
       "<table border=\"1\" class=\"dataframe\">\n",
       "  <thead>\n",
       "    <tr style=\"text-align: right;\">\n",
       "      <th></th>\n",
       "      <th>Respondent</th>\n",
       "      <th>MainBranch</th>\n",
       "      <th>Hobbyist</th>\n",
       "      <th>OpenSourcer</th>\n",
       "      <th>OpenSource</th>\n",
       "      <th>Employment</th>\n",
       "      <th>Country</th>\n",
       "      <th>Student</th>\n",
       "      <th>EdLevel</th>\n",
       "      <th>UndergradMajor</th>\n",
       "      <th>...</th>\n",
       "      <th>Gender</th>\n",
       "      <th>Trans</th>\n",
       "      <th>Sexuality</th>\n",
       "      <th>Ethnicity</th>\n",
       "      <th>Dependents</th>\n",
       "      <th>SurveyLength</th>\n",
       "      <th>SurveyEase</th>\n",
       "      <th>JobSat_val</th>\n",
       "      <th>Hobbyist_val</th>\n",
       "      <th>comp_range</th>\n",
       "    </tr>\n",
       "  </thead>\n",
       "  <tbody>\n",
       "    <tr>\n",
       "      <th>2</th>\n",
       "      <td>3</td>\n",
       "      <td>I am not primarily a developer, but I write co...</td>\n",
       "      <td>Yes</td>\n",
       "      <td>Never</td>\n",
       "      <td>The quality of OSS and closed source software ...</td>\n",
       "      <td>Employed full-time</td>\n",
       "      <td>Thailand</td>\n",
       "      <td>No</td>\n",
       "      <td>Bachelor’s degree (BA, BS, B.Eng., etc.)</td>\n",
       "      <td>Web development or web design</td>\n",
       "      <td>...</td>\n",
       "      <td>Man</td>\n",
       "      <td>No</td>\n",
       "      <td>Straight / Heterosexual</td>\n",
       "      <td>NaN</td>\n",
       "      <td>Yes</td>\n",
       "      <td>Appropriate in length</td>\n",
       "      <td>Neither easy nor difficult</td>\n",
       "      <td>4</td>\n",
       "      <td>1</td>\n",
       "      <td>&lt;50k</td>\n",
       "    </tr>\n",
       "    <tr>\n",
       "      <th>3</th>\n",
       "      <td>4</td>\n",
       "      <td>I am a developer by profession</td>\n",
       "      <td>No</td>\n",
       "      <td>Never</td>\n",
       "      <td>The quality of OSS and closed source software ...</td>\n",
       "      <td>Employed full-time</td>\n",
       "      <td>United States</td>\n",
       "      <td>No</td>\n",
       "      <td>Bachelor’s degree (BA, BS, B.Eng., etc.)</td>\n",
       "      <td>Computer science, computer engineering, or sof...</td>\n",
       "      <td>...</td>\n",
       "      <td>Man</td>\n",
       "      <td>No</td>\n",
       "      <td>Straight / Heterosexual</td>\n",
       "      <td>White or of European descent</td>\n",
       "      <td>No</td>\n",
       "      <td>Appropriate in length</td>\n",
       "      <td>Easy</td>\n",
       "      <td>4</td>\n",
       "      <td>0</td>\n",
       "      <td>&lt;100k</td>\n",
       "    </tr>\n",
       "    <tr>\n",
       "      <th>8</th>\n",
       "      <td>9</td>\n",
       "      <td>I am a developer by profession</td>\n",
       "      <td>Yes</td>\n",
       "      <td>Once a month or more often</td>\n",
       "      <td>The quality of OSS and closed source software ...</td>\n",
       "      <td>Employed full-time</td>\n",
       "      <td>New Zealand</td>\n",
       "      <td>No</td>\n",
       "      <td>Some college/university study without earning ...</td>\n",
       "      <td>Computer science, computer engineering, or sof...</td>\n",
       "      <td>...</td>\n",
       "      <td>Man</td>\n",
       "      <td>No</td>\n",
       "      <td>Bisexual</td>\n",
       "      <td>White or of European descent</td>\n",
       "      <td>No</td>\n",
       "      <td>Appropriate in length</td>\n",
       "      <td>Neither easy nor difficult</td>\n",
       "      <td>4</td>\n",
       "      <td>1</td>\n",
       "      <td>&lt;100k</td>\n",
       "    </tr>\n",
       "    <tr>\n",
       "      <th>9</th>\n",
       "      <td>10</td>\n",
       "      <td>I am a developer by profession</td>\n",
       "      <td>Yes</td>\n",
       "      <td>Once a month or more often</td>\n",
       "      <td>OSS is, on average, of HIGHER quality than pro...</td>\n",
       "      <td>Employed full-time</td>\n",
       "      <td>India</td>\n",
       "      <td>No</td>\n",
       "      <td>Master’s degree (MA, MS, M.Eng., MBA, etc.)</td>\n",
       "      <td>NaN</td>\n",
       "      <td>...</td>\n",
       "      <td>NaN</td>\n",
       "      <td>NaN</td>\n",
       "      <td>NaN</td>\n",
       "      <td>NaN</td>\n",
       "      <td>Yes</td>\n",
       "      <td>Too long</td>\n",
       "      <td>Difficult</td>\n",
       "      <td>2</td>\n",
       "      <td>1</td>\n",
       "      <td>&lt;50k</td>\n",
       "    </tr>\n",
       "    <tr>\n",
       "      <th>12</th>\n",
       "      <td>13</td>\n",
       "      <td>I am a developer by profession</td>\n",
       "      <td>Yes</td>\n",
       "      <td>Less than once a month but more than once per ...</td>\n",
       "      <td>OSS is, on average, of HIGHER quality than pro...</td>\n",
       "      <td>Employed full-time</td>\n",
       "      <td>United States</td>\n",
       "      <td>No</td>\n",
       "      <td>Master’s degree (MA, MS, M.Eng., MBA, etc.)</td>\n",
       "      <td>Computer science, computer engineering, or sof...</td>\n",
       "      <td>...</td>\n",
       "      <td>Man</td>\n",
       "      <td>No</td>\n",
       "      <td>Straight / Heterosexual</td>\n",
       "      <td>White or of European descent</td>\n",
       "      <td>Yes</td>\n",
       "      <td>Appropriate in length</td>\n",
       "      <td>Easy</td>\n",
       "      <td>5</td>\n",
       "      <td>1</td>\n",
       "      <td>&lt;100k</td>\n",
       "    </tr>\n",
       "  </tbody>\n",
       "</table>\n",
       "<p>5 rows × 88 columns</p>\n",
       "</div>"
      ],
      "text/plain": [
       "    Respondent                                         MainBranch Hobbyist  \\\n",
       "2            3  I am not primarily a developer, but I write co...      Yes   \n",
       "3            4                     I am a developer by profession       No   \n",
       "8            9                     I am a developer by profession      Yes   \n",
       "9           10                     I am a developer by profession      Yes   \n",
       "12          13                     I am a developer by profession      Yes   \n",
       "\n",
       "                                          OpenSourcer  \\\n",
       "2                                               Never   \n",
       "3                                               Never   \n",
       "8                          Once a month or more often   \n",
       "9                          Once a month or more often   \n",
       "12  Less than once a month but more than once per ...   \n",
       "\n",
       "                                           OpenSource          Employment  \\\n",
       "2   The quality of OSS and closed source software ...  Employed full-time   \n",
       "3   The quality of OSS and closed source software ...  Employed full-time   \n",
       "8   The quality of OSS and closed source software ...  Employed full-time   \n",
       "9   OSS is, on average, of HIGHER quality than pro...  Employed full-time   \n",
       "12  OSS is, on average, of HIGHER quality than pro...  Employed full-time   \n",
       "\n",
       "          Country Student                                            EdLevel  \\\n",
       "2        Thailand      No           Bachelor’s degree (BA, BS, B.Eng., etc.)   \n",
       "3   United States      No           Bachelor’s degree (BA, BS, B.Eng., etc.)   \n",
       "8     New Zealand      No  Some college/university study without earning ...   \n",
       "9           India      No        Master’s degree (MA, MS, M.Eng., MBA, etc.)   \n",
       "12  United States      No        Master’s degree (MA, MS, M.Eng., MBA, etc.)   \n",
       "\n",
       "                                       UndergradMajor  ... Gender Trans  \\\n",
       "2                       Web development or web design  ...    Man    No   \n",
       "3   Computer science, computer engineering, or sof...  ...    Man    No   \n",
       "8   Computer science, computer engineering, or sof...  ...    Man    No   \n",
       "9                                                 NaN  ...    NaN   NaN   \n",
       "12  Computer science, computer engineering, or sof...  ...    Man    No   \n",
       "\n",
       "                  Sexuality                     Ethnicity Dependents  \\\n",
       "2   Straight / Heterosexual                           NaN        Yes   \n",
       "3   Straight / Heterosexual  White or of European descent         No   \n",
       "8                  Bisexual  White or of European descent         No   \n",
       "9                       NaN                           NaN        Yes   \n",
       "12  Straight / Heterosexual  White or of European descent        Yes   \n",
       "\n",
       "             SurveyLength                  SurveyEase JobSat_val Hobbyist_val  \\\n",
       "2   Appropriate in length  Neither easy nor difficult          4            1   \n",
       "3   Appropriate in length                        Easy          4            0   \n",
       "8   Appropriate in length  Neither easy nor difficult          4            1   \n",
       "9                Too long                   Difficult          2            1   \n",
       "12  Appropriate in length                        Easy          5            1   \n",
       "\n",
       "   comp_range  \n",
       "2        <50k  \n",
       "3       <100k  \n",
       "8       <100k  \n",
       "9        <50k  \n",
       "12      <100k  \n",
       "\n",
       "[5 rows x 88 columns]"
      ]
     },
     "execution_count": 602,
     "metadata": {},
     "output_type": "execute_result"
    }
   ],
   "source": [
    "results_public.head()"
   ]
  },
  {
   "cell_type": "code",
   "execution_count": 603,
   "metadata": {
    "scrolled": true
   },
   "outputs": [
    {
     "data": {
      "text/plain": [
       "Index(['Respondent', 'MainBranch', 'Hobbyist', 'OpenSourcer', 'OpenSource',\n",
       "       'Employment', 'Country', 'Student', 'EdLevel', 'UndergradMajor',\n",
       "       'EduOther', 'OrgSize', 'DevType', 'YearsCode', 'Age1stCode',\n",
       "       'YearsCodePro', 'CareerSat', 'JobSat', 'MgrIdiot', 'MgrMoney',\n",
       "       'MgrWant', 'JobSeek', 'LastHireDate', 'LastInt', 'FizzBuzz',\n",
       "       'JobFactors', 'ResumeUpdate', 'CurrencySymbol', 'CurrencyDesc',\n",
       "       'CompTotal', 'CompFreq', 'ConvertedComp', 'WorkWeekHrs', 'WorkPlan',\n",
       "       'WorkChallenge', 'WorkRemote', 'WorkLoc', 'ImpSyn', 'CodeRev',\n",
       "       'CodeRevHrs', 'UnitTests', 'PurchaseHow', 'PurchaseWhat',\n",
       "       'LanguageWorkedWith', 'LanguageDesireNextYear', 'DatabaseWorkedWith',\n",
       "       'DatabaseDesireNextYear', 'PlatformWorkedWith',\n",
       "       'PlatformDesireNextYear', 'WebFrameWorkedWith',\n",
       "       'WebFrameDesireNextYear', 'MiscTechWorkedWith',\n",
       "       'MiscTechDesireNextYear', 'DevEnviron', 'OpSys', 'Containers',\n",
       "       'BlockchainOrg', 'BlockchainIs', 'BetterLife', 'ITperson', 'OffOn',\n",
       "       'SocialMedia', 'Extraversion', 'ScreenName', 'SOVisit1st',\n",
       "       'SOVisitFreq', 'SOVisitTo', 'SOFindAnswer', 'SOTimeSaved',\n",
       "       'SOHowMuchTime', 'SOAccount', 'SOPartFreq', 'SOJobs', 'EntTeams',\n",
       "       'SOComm', 'WelcomeChange', 'SONewContent', 'Age', 'Gender', 'Trans',\n",
       "       'Sexuality', 'Ethnicity', 'Dependents', 'SurveyLength', 'SurveyEase',\n",
       "       'JobSat_val', 'Hobbyist_val', 'comp_range'],\n",
       "      dtype='object')"
      ]
     },
     "execution_count": 603,
     "metadata": {},
     "output_type": "execute_result"
    }
   ],
   "source": [
    "results_public.columns"
   ]
  },
  {
   "cell_type": "code",
   "execution_count": 604,
   "metadata": {},
   "outputs": [
    {
     "data": {
      "text/html": [
       "<div>\n",
       "<style scoped>\n",
       "    .dataframe tbody tr th:only-of-type {\n",
       "        vertical-align: middle;\n",
       "    }\n",
       "\n",
       "    .dataframe tbody tr th {\n",
       "        vertical-align: top;\n",
       "    }\n",
       "\n",
       "    .dataframe thead th {\n",
       "        text-align: right;\n",
       "    }\n",
       "</style>\n",
       "<table border=\"1\" class=\"dataframe\">\n",
       "  <thead>\n",
       "    <tr style=\"text-align: right;\">\n",
       "      <th></th>\n",
       "      <th>Respondent</th>\n",
       "      <th>CompTotal</th>\n",
       "      <th>ConvertedComp</th>\n",
       "      <th>WorkWeekHrs</th>\n",
       "      <th>CodeRevHrs</th>\n",
       "      <th>Age</th>\n",
       "      <th>JobSat_val</th>\n",
       "      <th>Hobbyist_val</th>\n",
       "    </tr>\n",
       "  </thead>\n",
       "  <tbody>\n",
       "    <tr>\n",
       "      <th>count</th>\n",
       "      <td>51640.000000</td>\n",
       "      <td>5.164000e+04</td>\n",
       "      <td>51640.000000</td>\n",
       "      <td>51169.000000</td>\n",
       "      <td>38066.000000</td>\n",
       "      <td>49534.000000</td>\n",
       "      <td>51640.000000</td>\n",
       "      <td>51640.000000</td>\n",
       "    </tr>\n",
       "    <tr>\n",
       "      <th>mean</th>\n",
       "      <td>44462.434527</td>\n",
       "      <td>1.011704e+06</td>\n",
       "      <td>61718.992796</td>\n",
       "      <td>41.831304</td>\n",
       "      <td>4.874063</td>\n",
       "      <td>31.287384</td>\n",
       "      <td>3.686580</td>\n",
       "      <td>0.792080</td>\n",
       "    </tr>\n",
       "    <tr>\n",
       "      <th>std</th>\n",
       "      <td>25670.433953</td>\n",
       "      <td>2.107872e+07</td>\n",
       "      <td>47981.376499</td>\n",
       "      <td>35.870802</td>\n",
       "      <td>4.975090</td>\n",
       "      <td>8.061817</td>\n",
       "      <td>1.254673</td>\n",
       "      <td>0.405823</td>\n",
       "    </tr>\n",
       "    <tr>\n",
       "      <th>min</th>\n",
       "      <td>3.000000</td>\n",
       "      <td>0.000000e+00</td>\n",
       "      <td>0.000000</td>\n",
       "      <td>1.000000</td>\n",
       "      <td>0.000000</td>\n",
       "      <td>1.000000</td>\n",
       "      <td>1.000000</td>\n",
       "      <td>0.000000</td>\n",
       "    </tr>\n",
       "    <tr>\n",
       "      <th>25%</th>\n",
       "      <td>22177.750000</td>\n",
       "      <td>1.500000e+04</td>\n",
       "      <td>23376.000000</td>\n",
       "      <td>40.000000</td>\n",
       "      <td>2.000000</td>\n",
       "      <td>26.000000</td>\n",
       "      <td>3.000000</td>\n",
       "      <td>1.000000</td>\n",
       "    </tr>\n",
       "    <tr>\n",
       "      <th>50%</th>\n",
       "      <td>44533.500000</td>\n",
       "      <td>6.000000e+04</td>\n",
       "      <td>52248.000000</td>\n",
       "      <td>40.000000</td>\n",
       "      <td>4.000000</td>\n",
       "      <td>30.000000</td>\n",
       "      <td>4.000000</td>\n",
       "      <td>1.000000</td>\n",
       "    </tr>\n",
       "    <tr>\n",
       "      <th>75%</th>\n",
       "      <td>66708.250000</td>\n",
       "      <td>1.200000e+05</td>\n",
       "      <td>87036.000000</td>\n",
       "      <td>43.000000</td>\n",
       "      <td>5.000000</td>\n",
       "      <td>35.000000</td>\n",
       "      <td>5.000000</td>\n",
       "      <td>1.000000</td>\n",
       "    </tr>\n",
       "    <tr>\n",
       "      <th>max</th>\n",
       "      <td>88883.000000</td>\n",
       "      <td>3.000000e+09</td>\n",
       "      <td>248652.000000</td>\n",
       "      <td>4850.000000</td>\n",
       "      <td>99.000000</td>\n",
       "      <td>99.000000</td>\n",
       "      <td>5.000000</td>\n",
       "      <td>1.000000</td>\n",
       "    </tr>\n",
       "  </tbody>\n",
       "</table>\n",
       "</div>"
      ],
      "text/plain": [
       "         Respondent     CompTotal  ConvertedComp   WorkWeekHrs    CodeRevHrs  \\\n",
       "count  51640.000000  5.164000e+04   51640.000000  51169.000000  38066.000000   \n",
       "mean   44462.434527  1.011704e+06   61718.992796     41.831304      4.874063   \n",
       "std    25670.433953  2.107872e+07   47981.376499     35.870802      4.975090   \n",
       "min        3.000000  0.000000e+00       0.000000      1.000000      0.000000   \n",
       "25%    22177.750000  1.500000e+04   23376.000000     40.000000      2.000000   \n",
       "50%    44533.500000  6.000000e+04   52248.000000     40.000000      4.000000   \n",
       "75%    66708.250000  1.200000e+05   87036.000000     43.000000      5.000000   \n",
       "max    88883.000000  3.000000e+09  248652.000000   4850.000000     99.000000   \n",
       "\n",
       "                Age    JobSat_val  Hobbyist_val  \n",
       "count  49534.000000  51640.000000  51640.000000  \n",
       "mean      31.287384      3.686580      0.792080  \n",
       "std        8.061817      1.254673      0.405823  \n",
       "min        1.000000      1.000000      0.000000  \n",
       "25%       26.000000      3.000000      1.000000  \n",
       "50%       30.000000      4.000000      1.000000  \n",
       "75%       35.000000      5.000000      1.000000  \n",
       "max       99.000000      5.000000      1.000000  "
      ]
     },
     "execution_count": 604,
     "metadata": {},
     "output_type": "execute_result"
    }
   ],
   "source": [
    "results_public.describe()"
   ]
  },
  {
   "cell_type": "code",
   "execution_count": 605,
   "metadata": {},
   "outputs": [
    {
     "data": {
      "text/plain": [
       "(51640, 88)"
      ]
     },
     "execution_count": 605,
     "metadata": {},
     "output_type": "execute_result"
    }
   ],
   "source": [
    "results_public.shape"
   ]
  },
  {
   "cell_type": "code",
   "execution_count": 606,
   "metadata": {},
   "outputs": [
    {
     "name": "stderr",
     "output_type": "stream",
     "text": [
      "C:\\Users\\q477847\\AppData\\Local\\Continuum\\anaconda3\\lib\\site-packages\\IPython\\core\\interactiveshell.py:3296: UserWarning: To output multiple subplots, the figure containing the passed axes is being cleared\n",
      "  exec(code_obj, self.user_global_ns, self.user_ns)\n"
     ]
    },
    {
     "data": {
      "image/png": "[encoded data removed]",
      "text/plain": [
       "<Figure size 576x576 with 9 Axes>"
      ]
     },
     "metadata": {
      "needs_background": "light"
     },
     "output_type": "display_data"
    }
   ],
   "source": [
    "fig = plt.figure(figsize = (8,8))\n",
    "ax = fig.gca()\n",
    "results_public.hist(ax = ax);"
   ]
  },
  {
   "cell_type": "code",
   "execution_count": 607,
   "metadata": {},
   "outputs": [
    {
     "data": {
      "text/plain": [
       "<matplotlib.axes._subplots.AxesSubplot at 0x201b201b9e8>"
      ]
     },
     "execution_count": 607,
     "metadata": {},
     "output_type": "execute_result"
    },
    {
     "data": {
      "image/png": "[encoded data removed]",
      "text/plain": [
       "<Figure size 432x288 with 1 Axes>"
      ]
     },
     "metadata": {
      "needs_background": "light"
     },
     "output_type": "display_data"
    }
   ],
   "source": [
    "results_public['CompTotal'].hist()"
   ]
  },
  {
   "cell_type": "code",
   "execution_count": 608,
   "metadata": {},
   "outputs": [
    {
     "data": {
      "text/plain": [
       "<matplotlib.axes._subplots.AxesSubplot at 0x20195a363c8>"
      ]
     },
     "execution_count": 608,
     "metadata": {},
     "output_type": "execute_result"
    },
    {
     "data": {
      "image/png": "[encoded data removed]",
      "text/plain": [
       "<Figure size 432x288 with 1 Axes>"
      ]
     },
     "metadata": {
      "needs_background": "light"
     },
     "output_type": "display_data"
    }
   ],
   "source": [
    "results_public.isna().sum().hist()"
   ]
  },
  {
   "cell_type": "code",
   "execution_count": 609,
   "metadata": {},
   "outputs": [
    {
     "data": {
      "text/plain": [
       "0.0"
      ]
     },
     "execution_count": 609,
     "metadata": {},
     "output_type": "execute_result"
    }
   ],
   "source": [
    "results_public['JobSat'].isnull().mean()"
   ]
  },
  {
   "cell_type": "code",
   "execution_count": 610,
   "metadata": {},
   "outputs": [],
   "source": [
    "# I drop all rows for missing job satisfaction. Imputing values does not make sense for me here.\n",
    "results_public = results_public.dropna(subset=['JobSat'], how='any')"
   ]
  },
  {
   "cell_type": "code",
   "execution_count": 611,
   "metadata": {},
   "outputs": [
    {
     "data": {
      "text/plain": [
       "0.0"
      ]
     },
     "execution_count": 611,
     "metadata": {},
     "output_type": "execute_result"
    }
   ],
   "source": [
    "results_public['JobSat'].isnull().mean()"
   ]
  },
  {
   "cell_type": "code",
   "execution_count": 612,
   "metadata": {},
   "outputs": [
    {
     "data": {
      "text/plain": [
       "['Slightly satisfied',\n",
       " 'Slightly dissatisfied',\n",
       " 'Very satisfied',\n",
       " 'Neither satisfied nor dissatisfied',\n",
       " 'Very dissatisfied']"
      ]
     },
     "execution_count": 612,
     "metadata": {},
     "output_type": "execute_result"
    }
   ],
   "source": [
    "JobSat_categories=results_public['JobSat'].unique().tolist()\n",
    "JobSat_categories"
   ]
  },
  {
   "cell_type": "code",
   "execution_count": 613,
   "metadata": {},
   "outputs": [
    {
     "data": {
      "text/html": [
       "<div>\n",
       "<style scoped>\n",
       "    .dataframe tbody tr th:only-of-type {\n",
       "        vertical-align: middle;\n",
       "    }\n",
       "\n",
       "    .dataframe tbody tr th {\n",
       "        vertical-align: top;\n",
       "    }\n",
       "\n",
       "    .dataframe thead th {\n",
       "        text-align: right;\n",
       "    }\n",
       "</style>\n",
       "<table border=\"1\" class=\"dataframe\">\n",
       "  <thead>\n",
       "    <tr style=\"text-align: right;\">\n",
       "      <th></th>\n",
       "      <th>JobSat</th>\n",
       "      <th>JobSat_val</th>\n",
       "    </tr>\n",
       "  </thead>\n",
       "  <tbody>\n",
       "    <tr>\n",
       "      <th>2</th>\n",
       "      <td>Slightly satisfied</td>\n",
       "      <td>4</td>\n",
       "    </tr>\n",
       "    <tr>\n",
       "      <th>3</th>\n",
       "      <td>Slightly satisfied</td>\n",
       "      <td>4</td>\n",
       "    </tr>\n",
       "    <tr>\n",
       "      <th>8</th>\n",
       "      <td>Slightly satisfied</td>\n",
       "      <td>4</td>\n",
       "    </tr>\n",
       "    <tr>\n",
       "      <th>9</th>\n",
       "      <td>Slightly dissatisfied</td>\n",
       "      <td>2</td>\n",
       "    </tr>\n",
       "    <tr>\n",
       "      <th>12</th>\n",
       "      <td>Very satisfied</td>\n",
       "      <td>5</td>\n",
       "    </tr>\n",
       "    <tr>\n",
       "      <th>13</th>\n",
       "      <td>Very satisfied</td>\n",
       "      <td>5</td>\n",
       "    </tr>\n",
       "    <tr>\n",
       "      <th>16</th>\n",
       "      <td>Neither satisfied nor dissatisfied</td>\n",
       "      <td>3</td>\n",
       "    </tr>\n",
       "    <tr>\n",
       "      <th>17</th>\n",
       "      <td>Very satisfied</td>\n",
       "      <td>5</td>\n",
       "    </tr>\n",
       "    <tr>\n",
       "      <th>18</th>\n",
       "      <td>Very satisfied</td>\n",
       "      <td>5</td>\n",
       "    </tr>\n",
       "    <tr>\n",
       "      <th>19</th>\n",
       "      <td>Slightly dissatisfied</td>\n",
       "      <td>2</td>\n",
       "    </tr>\n",
       "    <tr>\n",
       "      <th>21</th>\n",
       "      <td>Very dissatisfied</td>\n",
       "      <td>1</td>\n",
       "    </tr>\n",
       "    <tr>\n",
       "      <th>22</th>\n",
       "      <td>Slightly satisfied</td>\n",
       "      <td>4</td>\n",
       "    </tr>\n",
       "    <tr>\n",
       "      <th>23</th>\n",
       "      <td>Very satisfied</td>\n",
       "      <td>5</td>\n",
       "    </tr>\n",
       "    <tr>\n",
       "      <th>24</th>\n",
       "      <td>Very satisfied</td>\n",
       "      <td>5</td>\n",
       "    </tr>\n",
       "    <tr>\n",
       "      <th>25</th>\n",
       "      <td>Very satisfied</td>\n",
       "      <td>5</td>\n",
       "    </tr>\n",
       "  </tbody>\n",
       "</table>\n",
       "</div>"
      ],
      "text/plain": [
       "                                JobSat  JobSat_val\n",
       "2                   Slightly satisfied           4\n",
       "3                   Slightly satisfied           4\n",
       "8                   Slightly satisfied           4\n",
       "9                Slightly dissatisfied           2\n",
       "12                      Very satisfied           5\n",
       "13                      Very satisfied           5\n",
       "16  Neither satisfied nor dissatisfied           3\n",
       "17                      Very satisfied           5\n",
       "18                      Very satisfied           5\n",
       "19               Slightly dissatisfied           2\n",
       "21                   Very dissatisfied           1\n",
       "22                  Slightly satisfied           4\n",
       "23                      Very satisfied           5\n",
       "24                      Very satisfied           5\n",
       "25                      Very satisfied           5"
      ]
     },
     "execution_count": 613,
     "metadata": {},
     "output_type": "execute_result"
    }
   ],
   "source": [
    "results_public['JobSat_val']=results_public['JobSat']\n",
    "results_public['JobSat_val'].replace(['Slightly satisfied','Slightly dissatisfied','Neither satisfied nor dissatisfied','Very satisfied', 'Very dissatisfied'], [4, 2, 3, 5, 1], inplace=True)\n",
    "results_public[['JobSat', 'JobSat_val']].head(15)"
   ]
  },
  {
   "cell_type": "code",
   "execution_count": 614,
   "metadata": {},
   "outputs": [
    {
     "data": {
      "text/html": [
       "<div>\n",
       "<style scoped>\n",
       "    .dataframe tbody tr th:only-of-type {\n",
       "        vertical-align: middle;\n",
       "    }\n",
       "\n",
       "    .dataframe tbody tr th {\n",
       "        vertical-align: top;\n",
       "    }\n",
       "\n",
       "    .dataframe thead th {\n",
       "        text-align: right;\n",
       "    }\n",
       "</style>\n",
       "<table border=\"1\" class=\"dataframe\">\n",
       "  <thead>\n",
       "    <tr style=\"text-align: right;\">\n",
       "      <th></th>\n",
       "      <th>Hobbyist</th>\n",
       "      <th>Hobbyist_val</th>\n",
       "    </tr>\n",
       "  </thead>\n",
       "  <tbody>\n",
       "    <tr>\n",
       "      <th>2</th>\n",
       "      <td>Yes</td>\n",
       "      <td>1</td>\n",
       "    </tr>\n",
       "    <tr>\n",
       "      <th>3</th>\n",
       "      <td>No</td>\n",
       "      <td>0</td>\n",
       "    </tr>\n",
       "    <tr>\n",
       "      <th>8</th>\n",
       "      <td>Yes</td>\n",
       "      <td>1</td>\n",
       "    </tr>\n",
       "    <tr>\n",
       "      <th>9</th>\n",
       "      <td>Yes</td>\n",
       "      <td>1</td>\n",
       "    </tr>\n",
       "    <tr>\n",
       "      <th>12</th>\n",
       "      <td>Yes</td>\n",
       "      <td>1</td>\n",
       "    </tr>\n",
       "    <tr>\n",
       "      <th>13</th>\n",
       "      <td>Yes</td>\n",
       "      <td>1</td>\n",
       "    </tr>\n",
       "    <tr>\n",
       "      <th>16</th>\n",
       "      <td>Yes</td>\n",
       "      <td>1</td>\n",
       "    </tr>\n",
       "    <tr>\n",
       "      <th>17</th>\n",
       "      <td>Yes</td>\n",
       "      <td>1</td>\n",
       "    </tr>\n",
       "    <tr>\n",
       "      <th>18</th>\n",
       "      <td>Yes</td>\n",
       "      <td>1</td>\n",
       "    </tr>\n",
       "    <tr>\n",
       "      <th>19</th>\n",
       "      <td>No</td>\n",
       "      <td>0</td>\n",
       "    </tr>\n",
       "    <tr>\n",
       "      <th>21</th>\n",
       "      <td>Yes</td>\n",
       "      <td>1</td>\n",
       "    </tr>\n",
       "    <tr>\n",
       "      <th>22</th>\n",
       "      <td>Yes</td>\n",
       "      <td>1</td>\n",
       "    </tr>\n",
       "    <tr>\n",
       "      <th>23</th>\n",
       "      <td>Yes</td>\n",
       "      <td>1</td>\n",
       "    </tr>\n",
       "    <tr>\n",
       "      <th>24</th>\n",
       "      <td>No</td>\n",
       "      <td>0</td>\n",
       "    </tr>\n",
       "    <tr>\n",
       "      <th>25</th>\n",
       "      <td>Yes</td>\n",
       "      <td>1</td>\n",
       "    </tr>\n",
       "  </tbody>\n",
       "</table>\n",
       "</div>"
      ],
      "text/plain": [
       "   Hobbyist  Hobbyist_val\n",
       "2       Yes             1\n",
       "3        No             0\n",
       "8       Yes             1\n",
       "9       Yes             1\n",
       "12      Yes             1\n",
       "13      Yes             1\n",
       "16      Yes             1\n",
       "17      Yes             1\n",
       "18      Yes             1\n",
       "19       No             0\n",
       "21      Yes             1\n",
       "22      Yes             1\n",
       "23      Yes             1\n",
       "24       No             0\n",
       "25      Yes             1"
      ]
     },
     "execution_count": 614,
     "metadata": {},
     "output_type": "execute_result"
    }
   ],
   "source": [
    "results_public['Hobbyist_val']=results_public['Hobbyist']\n",
    "results_public['Hobbyist_val'].replace(['Yes', 'No'], [1, 0], inplace=True)\n",
    "results_public[['Hobbyist', 'Hobbyist_val']].head(15)"
   ]
  },
  {
   "cell_type": "code",
   "execution_count": 615,
   "metadata": {},
   "outputs": [
    {
     "data": {
      "text/plain": [
       "0.0"
      ]
     },
     "execution_count": 615,
     "metadata": {},
     "output_type": "execute_result"
    }
   ],
   "source": [
    "results_public['Hobbyist_val'].isnull().mean()"
   ]
  },
  {
   "cell_type": "code",
   "execution_count": 616,
   "metadata": {},
   "outputs": [
    {
     "data": {
      "text/plain": [
       "0.7920797831138652"
      ]
     },
     "execution_count": 616,
     "metadata": {},
     "output_type": "execute_result"
    }
   ],
   "source": [
    "results_public['Hobbyist_val'].mean()"
   ]
  },
  {
   "cell_type": "code",
   "execution_count": 617,
   "metadata": {},
   "outputs": [
    {
     "data": {
      "text/plain": [
       "JobSat_val\n",
       "1    0.775401\n",
       "2    0.784106\n",
       "3    0.782959\n",
       "4    0.788992\n",
       "5    0.806211\n",
       "Name: Hobbyist_val, dtype: float64"
      ]
     },
     "execution_count": 617,
     "metadata": {},
     "output_type": "execute_result"
    }
   ],
   "source": [
    "res=results_public.groupby(['JobSat_val']).mean()['Hobbyist_val']\n",
    "res"
   ]
  },
  {
   "cell_type": "code",
   "execution_count": 618,
   "metadata": {},
   "outputs": [
    {
     "data": {
      "text/plain": [
       "(10737, 88)"
      ]
     },
     "execution_count": 618,
     "metadata": {},
     "output_type": "execute_result"
    }
   ],
   "source": [
    "# Splitting the dataset into Hobbyists and no Hobbyists\n",
    "results_public_hobbyist=results_public[results_public['Hobbyist_val']==1]\n",
    "results_public_no_hobbyist=results_public[results_public['Hobbyist_val']==0]\n",
    "results_public_no_hobbyist.shape"
   ]
  },
  {
   "cell_type": "code",
   "execution_count": 619,
   "metadata": {
    "scrolled": true
   },
   "outputs": [
    {
     "data": {
      "text/plain": [
       "4    14063\n",
       "5    13213\n",
       "2     6305\n",
       "3     4567\n",
       "1     2755\n",
       "Name: JobSat_val, dtype: int64"
      ]
     },
     "execution_count": 619,
     "metadata": {},
     "output_type": "execute_result"
    }
   ],
   "source": [
    "res_hob=results_public_hobbyist['JobSat_val'].value_counts()\n",
    "res_no_hob=results_public_no_hobbyist['JobSat_val'].value_counts()\n",
    "res_hob"
   ]
  },
  {
   "cell_type": "code",
   "execution_count": 620,
   "metadata": {},
   "outputs": [
    {
     "data": {
      "text/plain": [
       "1    0.074322\n",
       "2    0.161684\n",
       "3    0.117910\n",
       "4    0.350284\n",
       "5    0.295800\n",
       "Name: JobSat_val, dtype: float64"
      ]
     },
     "execution_count": 620,
     "metadata": {},
     "output_type": "execute_result"
    }
   ],
   "source": [
    "res_no_hob_pro.sort_index()"
   ]
  },
  {
   "cell_type": "code",
   "execution_count": 621,
   "metadata": {},
   "outputs": [
    {
     "data": {
      "text/plain": [
       "(10737, 88)"
      ]
     },
     "execution_count": 621,
     "metadata": {},
     "output_type": "execute_result"
    }
   ],
   "source": [
    "results_public_no_hobbyist.shape"
   ]
  },
  {
   "cell_type": "code",
   "execution_count": 622,
   "metadata": {},
   "outputs": [
    {
     "data": {
      "text/plain": [
       "1    0.067354\n",
       "2    0.154145\n",
       "3    0.111654\n",
       "4    0.343813\n",
       "5    0.323033\n",
       "Name: JobSat_val, dtype: float64"
      ]
     },
     "execution_count": 622,
     "metadata": {},
     "output_type": "execute_result"
    }
   ],
   "source": [
    "res_hob_pro = res_hob/results_public_hobbyist.shape[0]\n",
    "res_hob_pro = res_hob_pro.sort_index()\n",
    "res_hob_pro"
   ]
  },
  {
   "cell_type": "code",
   "execution_count": 623,
   "metadata": {},
   "outputs": [
    {
     "data": {
      "text/plain": [
       "1    0.074322\n",
       "2    0.161684\n",
       "3    0.117910\n",
       "4    0.350284\n",
       "5    0.295800\n",
       "Name: JobSat_val, dtype: float64"
      ]
     },
     "execution_count": 623,
     "metadata": {},
     "output_type": "execute_result"
    }
   ],
   "source": [
    "res_no_hob_pro = res_no_hob/results_public_no_hobbyist.shape[0]\n",
    "res_no_hob_pro = res_no_hob_pro.sort_index()\n",
    "res_no_hob_pro"
   ]
  },
  {
   "cell_type": "code",
   "execution_count": 624,
   "metadata": {},
   "outputs": [
    {
     "data": {
      "text/plain": [
       "1.0"
      ]
     },
     "execution_count": 624,
     "metadata": {},
     "output_type": "execute_result"
    }
   ],
   "source": [
    "res_hob_pro.values.sum()"
   ]
  },
  {
   "cell_type": "code",
   "execution_count": 671,
   "metadata": {},
   "outputs": [
    {
     "data": {
      "image/png": "[encoded data removed]",
      "text/plain": [
       "<Figure size 576x432 with 1 Axes>"
      ]
     },
     "metadata": {
      "needs_background": "light"
     },
     "output_type": "display_data"
    }
   ],
   "source": [
    "# plot the answer to my fist question\n",
    "Legende_Hobby = [str(int(results_public_hobbyist.shape[0]))+' Hobbyist',str(int(results_public_no_hobbyist.shape[0]))+' No Hobbyist']\n",
    "y1 = res_hob_pro.values\n",
    "y2 = res_no_hob_pro.values\n",
    "Sat_Labels = ['Very dissatisfied','Slightly dissatisfied','Neither nor','Slightly satisfied','Very satisfied']\n",
    "\n",
    "ind = np.arange(5)  # the x locations for the groups\n",
    "width = 0.1 \n",
    "\n",
    "fig = plt.figure(figsize=(8, 6)) \n",
    "\n",
    "ax = plt.subplot()\n",
    "ax.bar(ind-width, y1, width=0.15, color='b', align='center')\n",
    "ax.bar(ind+width, y2, width=0.15, color='g', align='center')\n",
    "ax.set_ylabel(\"Ratio in %\")\n",
    "ax.set_title('Job satisfaction of Hobbyists vs no Hobbyist')\n",
    "plt.xticks(ind, Sat_Labels, rotation=20)\n",
    "plt.legend(Legende_Hobby,loc=0)\n",
    "plt.savefig(\"Job satisfaction of Hobbyists vs no Hobbyist.png\")"
   ]
  },
  {
   "cell_type": "code",
   "execution_count": 626,
   "metadata": {},
   "outputs": [],
   "source": [
    "# using the \"fresh\" dataset. All rows are included. No rows deleted yet.\n",
    "salary_df=df"
   ]
  },
  {
   "cell_type": "code",
   "execution_count": 627,
   "metadata": {},
   "outputs": [
    {
     "data": {
      "text/html": [
       "<div>\n",
       "<style scoped>\n",
       "    .dataframe tbody tr th:only-of-type {\n",
       "        vertical-align: middle;\n",
       "    }\n",
       "\n",
       "    .dataframe tbody tr th {\n",
       "        vertical-align: top;\n",
       "    }\n",
       "\n",
       "    .dataframe thead th {\n",
       "        text-align: right;\n",
       "    }\n",
       "</style>\n",
       "<table border=\"1\" class=\"dataframe\">\n",
       "  <thead>\n",
       "    <tr style=\"text-align: right;\">\n",
       "      <th></th>\n",
       "      <th>CompTotal</th>\n",
       "      <th>CompFreq</th>\n",
       "      <th>ConvertedComp</th>\n",
       "    </tr>\n",
       "  </thead>\n",
       "  <tbody>\n",
       "    <tr>\n",
       "      <th>2</th>\n",
       "      <td>23000.0</td>\n",
       "      <td>Monthly</td>\n",
       "      <td>8820.0</td>\n",
       "    </tr>\n",
       "    <tr>\n",
       "      <th>3</th>\n",
       "      <td>61000.0</td>\n",
       "      <td>Yearly</td>\n",
       "      <td>61000.0</td>\n",
       "    </tr>\n",
       "    <tr>\n",
       "      <th>8</th>\n",
       "      <td>138000.0</td>\n",
       "      <td>Yearly</td>\n",
       "      <td>95179.0</td>\n",
       "    </tr>\n",
       "    <tr>\n",
       "      <th>9</th>\n",
       "      <td>950000.0</td>\n",
       "      <td>Yearly</td>\n",
       "      <td>13293.0</td>\n",
       "    </tr>\n",
       "    <tr>\n",
       "      <th>12</th>\n",
       "      <td>90000.0</td>\n",
       "      <td>Yearly</td>\n",
       "      <td>90000.0</td>\n",
       "    </tr>\n",
       "  </tbody>\n",
       "</table>\n",
       "</div>"
      ],
      "text/plain": [
       "    CompTotal CompFreq  ConvertedComp\n",
       "2     23000.0  Monthly         8820.0\n",
       "3     61000.0   Yearly        61000.0\n",
       "8    138000.0   Yearly        95179.0\n",
       "9    950000.0   Yearly        13293.0\n",
       "12    90000.0   Yearly        90000.0"
      ]
     },
     "execution_count": 627,
     "metadata": {},
     "output_type": "execute_result"
    }
   ],
   "source": [
    "salary_df[['CompTotal', 'CompFreq', 'ConvertedComp']].head()"
   ]
  },
  {
   "cell_type": "code",
   "execution_count": 628,
   "metadata": {},
   "outputs": [
    {
     "data": {
      "text/plain": [
       "2          Thailand\n",
       "3     United States\n",
       "8       New Zealand\n",
       "9             India\n",
       "12    United States\n",
       "Name: Country, dtype: object"
      ]
     },
     "execution_count": 628,
     "metadata": {},
     "output_type": "execute_result"
    }
   ],
   "source": [
    "salary_df['Country'].head()"
   ]
  },
  {
   "cell_type": "code",
   "execution_count": 629,
   "metadata": {},
   "outputs": [],
   "source": [
    "# I am currently not sure about the conversion of the salaries. To minimize the error I only use the US \n",
    "# salaries for my future analysis\n",
    "results_public_US=df[df['Country'] == 'United States']"
   ]
  },
  {
   "cell_type": "code",
   "execution_count": 630,
   "metadata": {},
   "outputs": [
    {
     "data": {
      "text/html": [
       "<div>\n",
       "<style scoped>\n",
       "    .dataframe tbody tr th:only-of-type {\n",
       "        vertical-align: middle;\n",
       "    }\n",
       "\n",
       "    .dataframe tbody tr th {\n",
       "        vertical-align: top;\n",
       "    }\n",
       "\n",
       "    .dataframe thead th {\n",
       "        text-align: right;\n",
       "    }\n",
       "</style>\n",
       "<table border=\"1\" class=\"dataframe\">\n",
       "  <thead>\n",
       "    <tr style=\"text-align: right;\">\n",
       "      <th></th>\n",
       "      <th>CompTotal</th>\n",
       "      <th>CompFreq</th>\n",
       "      <th>ConvertedComp</th>\n",
       "    </tr>\n",
       "  </thead>\n",
       "  <tbody>\n",
       "    <tr>\n",
       "      <th>40474</th>\n",
       "      <td>50000000.0</td>\n",
       "      <td>Monthly</td>\n",
       "      <td>25860.0</td>\n",
       "    </tr>\n",
       "    <tr>\n",
       "      <th>6387</th>\n",
       "      <td>12000000.0</td>\n",
       "      <td>Monthly</td>\n",
       "      <td>3420.0</td>\n",
       "    </tr>\n",
       "    <tr>\n",
       "      <th>84354</th>\n",
       "      <td>720000.0</td>\n",
       "      <td>Yearly</td>\n",
       "      <td>10075.0</td>\n",
       "    </tr>\n",
       "    <tr>\n",
       "      <th>36591</th>\n",
       "      <td>248400.0</td>\n",
       "      <td>Yearly</td>\n",
       "      <td>248400.0</td>\n",
       "    </tr>\n",
       "    <tr>\n",
       "      <th>43826</th>\n",
       "      <td>248000.0</td>\n",
       "      <td>Yearly</td>\n",
       "      <td>248000.0</td>\n",
       "    </tr>\n",
       "    <tr>\n",
       "      <th>63049</th>\n",
       "      <td>247084.0</td>\n",
       "      <td>Yearly</td>\n",
       "      <td>247084.0</td>\n",
       "    </tr>\n",
       "    <tr>\n",
       "      <th>8129</th>\n",
       "      <td>246000.0</td>\n",
       "      <td>Yearly</td>\n",
       "      <td>246000.0</td>\n",
       "    </tr>\n",
       "    <tr>\n",
       "      <th>37845</th>\n",
       "      <td>245000.0</td>\n",
       "      <td>Yearly</td>\n",
       "      <td>245000.0</td>\n",
       "    </tr>\n",
       "    <tr>\n",
       "      <th>35992</th>\n",
       "      <td>245000.0</td>\n",
       "      <td>Yearly</td>\n",
       "      <td>245000.0</td>\n",
       "    </tr>\n",
       "    <tr>\n",
       "      <th>14159</th>\n",
       "      <td>245000.0</td>\n",
       "      <td>Yearly</td>\n",
       "      <td>245000.0</td>\n",
       "    </tr>\n",
       "  </tbody>\n",
       "</table>\n",
       "</div>"
      ],
      "text/plain": [
       "        CompTotal CompFreq  ConvertedComp\n",
       "40474  50000000.0  Monthly        25860.0\n",
       "6387   12000000.0  Monthly         3420.0\n",
       "84354    720000.0   Yearly        10075.0\n",
       "36591    248400.0   Yearly       248400.0\n",
       "43826    248000.0   Yearly       248000.0\n",
       "63049    247084.0   Yearly       247084.0\n",
       "8129     246000.0   Yearly       246000.0\n",
       "37845    245000.0   Yearly       245000.0\n",
       "35992    245000.0   Yearly       245000.0\n",
       "14159    245000.0   Yearly       245000.0"
      ]
     },
     "execution_count": 630,
     "metadata": {},
     "output_type": "execute_result"
    }
   ],
   "source": [
    "results_public_US=results_public_US.sort_values(['CompTotal'], ascending=[False])\n",
    "results_public_US[['CompTotal', 'CompFreq', 'ConvertedComp']].head(10)"
   ]
  },
  {
   "cell_type": "code",
   "execution_count": 631,
   "metadata": {},
   "outputs": [
    {
     "data": {
      "text/plain": [
       "248400.0"
      ]
     },
     "execution_count": 631,
     "metadata": {},
     "output_type": "execute_result"
    }
   ],
   "source": [
    "results_public_US['ConvertedComp'].max()"
   ]
  },
  {
   "cell_type": "code",
   "execution_count": 655,
   "metadata": {},
   "outputs": [
    {
     "data": {
      "text/plain": [
       "50000000.0"
      ]
     },
     "execution_count": 655,
     "metadata": {},
     "output_type": "execute_result"
    }
   ],
   "source": [
    "results_public_US['CompTotal'].max()\n",
    "#yeah, no..."
   ]
  },
  {
   "cell_type": "code",
   "execution_count": 632,
   "metadata": {},
   "outputs": [
    {
     "name": "stderr",
     "output_type": "stream",
     "text": [
      "C:\\Users\\q477847\\AppData\\Local\\Continuum\\anaconda3\\lib\\site-packages\\IPython\\core\\interactiveshell.py:3296: UserWarning: To output multiple subplots, the figure containing the passed axes is being cleared\n",
      "  exec(code_obj, self.user_global_ns, self.user_ns)\n"
     ]
    },
    {
     "data": {
      "image/png": "[encoded data removed]",
      "text/plain": [
       "<Figure size 576x576 with 9 Axes>"
      ]
     },
     "metadata": {
      "needs_background": "light"
     },
     "output_type": "display_data"
    }
   ],
   "source": [
    "fig = plt.figure(figsize = (8,8))\n",
    "ax = fig.gca()\n",
    "results_public_US.hist(ax = ax);"
   ]
  },
  {
   "cell_type": "code",
   "execution_count": 633,
   "metadata": {},
   "outputs": [
    {
     "data": {
      "text/plain": [
       "(13064, 88)"
      ]
     },
     "execution_count": 633,
     "metadata": {},
     "output_type": "execute_result"
    }
   ],
   "source": [
    "results_public_US.shape"
   ]
  },
  {
   "cell_type": "code",
   "execution_count": 634,
   "metadata": {},
   "outputs": [
    {
     "data": {
      "text/plain": [
       "0.0"
      ]
     },
     "execution_count": 634,
     "metadata": {},
     "output_type": "execute_result"
    }
   ],
   "source": [
    "results_public_US['ConvertedComp'].isnull().mean()"
   ]
  },
  {
   "cell_type": "code",
   "execution_count": null,
   "metadata": {},
   "outputs": [],
   "source": []
  },
  {
   "cell_type": "code",
   "execution_count": null,
   "metadata": {},
   "outputs": [],
   "source": []
  },
  {
   "cell_type": "code",
   "execution_count": null,
   "metadata": {},
   "outputs": [],
   "source": []
  },
  {
   "cell_type": "code",
   "execution_count": 659,
   "metadata": {},
   "outputs": [
    {
     "data": {
      "image/png": "[encoded data removed]",
      "text/plain": [
       "<Figure size 576x432 with 1 Axes>"
      ]
     },
     "metadata": {
      "needs_background": "light"
     },
     "output_type": "display_data"
    }
   ],
   "source": [
    "fig = plt.figure(figsize=(8, 6)) \n",
    "sns.distplot(results_public_US['ConvertedComp'])\n",
    "plt.title('Histogram of US salaries')\n",
    "plt.ylabel('Aggregate per salary category')\n",
    "plt.xlabel('Salary in US $')\n",
    "plt.savefig(\"Histogram of US salaries.png\")"
   ]
  },
  {
   "cell_type": "code",
   "execution_count": 636,
   "metadata": {},
   "outputs": [
    {
     "data": {
      "text/plain": [
       "40474     25860.0\n",
       "6387       3420.0\n",
       "84354     10075.0\n",
       "36591    248400.0\n",
       "43826    248000.0\n",
       "Name: ConvertedComp, dtype: float64"
      ]
     },
     "execution_count": 636,
     "metadata": {},
     "output_type": "execute_result"
    }
   ],
   "source": [
    "results_public_US['ConvertedComp'].head()"
   ]
  },
  {
   "cell_type": "code",
   "execution_count": 637,
   "metadata": {},
   "outputs": [],
   "source": [
    "# create 50k& ranges\n",
    "def f(row):\n",
    "    if row['ConvertedComp'] <= 50000:\n",
    "        val = '0-50k'\n",
    "    elif row['ConvertedComp'] <= 100000:\n",
    "        val = '50-100k'\n",
    "    elif row['ConvertedComp'] <= 150000:\n",
    "        val = '100-150k'\n",
    "    elif row['ConvertedComp'] <= 200000:\n",
    "        val = '150-200k'\n",
    "    else:\n",
    "        val = '200-250k'\n",
    "    return val"
   ]
  },
  {
   "cell_type": "code",
   "execution_count": 638,
   "metadata": {},
   "outputs": [],
   "source": [
    "results_public_US['comp_range'] = results_public_US.apply(f, axis=1)"
   ]
  },
  {
   "cell_type": "code",
   "execution_count": 639,
   "metadata": {},
   "outputs": [
    {
     "data": {
      "text/html": [
       "<div>\n",
       "<style scoped>\n",
       "    .dataframe tbody tr th:only-of-type {\n",
       "        vertical-align: middle;\n",
       "    }\n",
       "\n",
       "    .dataframe tbody tr th {\n",
       "        vertical-align: top;\n",
       "    }\n",
       "\n",
       "    .dataframe thead th {\n",
       "        text-align: right;\n",
       "    }\n",
       "</style>\n",
       "<table border=\"1\" class=\"dataframe\">\n",
       "  <thead>\n",
       "    <tr style=\"text-align: right;\">\n",
       "      <th></th>\n",
       "      <th>comp_range</th>\n",
       "      <th>ConvertedComp</th>\n",
       "    </tr>\n",
       "  </thead>\n",
       "  <tbody>\n",
       "    <tr>\n",
       "      <th>40474</th>\n",
       "      <td>0-50k</td>\n",
       "      <td>25860.0</td>\n",
       "    </tr>\n",
       "    <tr>\n",
       "      <th>6387</th>\n",
       "      <td>0-50k</td>\n",
       "      <td>3420.0</td>\n",
       "    </tr>\n",
       "    <tr>\n",
       "      <th>84354</th>\n",
       "      <td>0-50k</td>\n",
       "      <td>10075.0</td>\n",
       "    </tr>\n",
       "    <tr>\n",
       "      <th>36591</th>\n",
       "      <td>200-250k</td>\n",
       "      <td>248400.0</td>\n",
       "    </tr>\n",
       "    <tr>\n",
       "      <th>43826</th>\n",
       "      <td>200-250k</td>\n",
       "      <td>248000.0</td>\n",
       "    </tr>\n",
       "  </tbody>\n",
       "</table>\n",
       "</div>"
      ],
      "text/plain": [
       "      comp_range  ConvertedComp\n",
       "40474      0-50k        25860.0\n",
       "6387       0-50k         3420.0\n",
       "84354      0-50k        10075.0\n",
       "36591   200-250k       248400.0\n",
       "43826   200-250k       248000.0"
      ]
     },
     "execution_count": 639,
     "metadata": {},
     "output_type": "execute_result"
    }
   ],
   "source": [
    "results_public_US[['comp_range', 'ConvertedComp']].head()"
   ]
  },
  {
   "cell_type": "code",
   "execution_count": 640,
   "metadata": {},
   "outputs": [
    {
     "data": {
      "text/plain": [
       "(10293, 88)"
      ]
     },
     "execution_count": 640,
     "metadata": {},
     "output_type": "execute_result"
    }
   ],
   "source": [
    "results_public_US_hobbyist=results_public_US[results_public_US['Hobbyist_val']==1]\n",
    "results_public_US_no_hobbyist=results_public_US[results_public_US['Hobbyist_val']==0]\n",
    "results_public_US_hobbyist.shape"
   ]
  },
  {
   "cell_type": "code",
   "execution_count": 641,
   "metadata": {},
   "outputs": [
    {
     "data": {
      "text/plain": [
       "50-100k     1198\n",
       "100-150k     961\n",
       "150-200k     346\n",
       "0-50k        188\n",
       "200-250k      78\n",
       "Name: comp_range, dtype: int64"
      ]
     },
     "execution_count": 641,
     "metadata": {},
     "output_type": "execute_result"
    }
   ],
   "source": [
    "sal_hob=results_public_US_hobbyist['comp_range'].value_counts()\n",
    "sal_no_hob=results_public_US_no_hobbyist['comp_range'].value_counts()\n",
    "sal_no_hob"
   ]
  },
  {
   "cell_type": "code",
   "execution_count": 642,
   "metadata": {},
   "outputs": [
    {
     "data": {
      "text/plain": [
       "0-50k        188\n",
       "50-100k     1198\n",
       "100-150k     961\n",
       "150-200k     346\n",
       "200-250k      78\n",
       "Name: comp_range, dtype: int64"
      ]
     },
     "execution_count": 642,
     "metadata": {},
     "output_type": "execute_result"
    }
   ],
   "source": [
    "sal_no_hob = sal_no_hob.reindex(index = ['0-50k','50-100k','100-150k','150-200k','200-250k'])\n",
    "sal_hob = sal_hob.reindex(index = ['0-50k','50-100k','100-150k','150-200k','200-250k'])\n",
    "\n",
    "sal_no_hob"
   ]
  },
  {
   "cell_type": "code",
   "execution_count": 643,
   "metadata": {},
   "outputs": [
    {
     "data": {
      "text/plain": [
       "0-50k        886\n",
       "50-100k     4196\n",
       "100-150k    3530\n",
       "150-200k    1358\n",
       "200-250k     323\n",
       "Name: comp_range, dtype: int64"
      ]
     },
     "execution_count": 643,
     "metadata": {},
     "output_type": "execute_result"
    }
   ],
   "source": [
    "sal_hob.sort_index()\n",
    "sal_hob"
   ]
  },
  {
   "cell_type": "code",
   "execution_count": 644,
   "metadata": {},
   "outputs": [
    {
     "data": {
      "text/plain": [
       "5"
      ]
     },
     "execution_count": 644,
     "metadata": {},
     "output_type": "execute_result"
    }
   ],
   "source": [
    "sal_hob_prob = sal_hob/results_public_US_hobbyist.shape[0]\n",
    "sal_no_hob_prob = sal_no_hob/results_public_US_no_hobbyist.shape[0]\n",
    "len(sal_no_hob_prob)"
   ]
  },
  {
   "cell_type": "code",
   "execution_count": 645,
   "metadata": {},
   "outputs": [
    {
     "data": {
      "text/plain": [
       "5"
      ]
     },
     "execution_count": 645,
     "metadata": {},
     "output_type": "execute_result"
    }
   ],
   "source": [
    "len(sal_hob_prob)"
   ]
  },
  {
   "cell_type": "code",
   "execution_count": 663,
   "metadata": {},
   "outputs": [
    {
     "data": {
      "image/png": "[encoded data removed]",
      "text/plain": [
       "<Figure size 576x288 with 1 Axes>"
      ]
     },
     "metadata": {
      "needs_background": "light"
     },
     "output_type": "display_data"
    }
   ],
   "source": [
    "Legende_Hobby = [str(int(results_public_US_hobbyist.shape[0]))+' Hobbyist',str(int(results_public_US_no_hobbyist.shape[0]))+' No Hobbyist']\n",
    "y1 = sal_hob_prob.values\n",
    "y2 = sal_no_hob_prob.values\n",
    "Sat_Labels = sal_no_hob_prob.index\n",
    "\n",
    "ind = np.arange(int(len(sal_hob_prob)))  # the x locations for the groups\n",
    "width = 0.1 \n",
    "\n",
    "fig = plt.figure(figsize=(8, 4)) \n",
    "\n",
    "ax = plt.subplot()\n",
    "ax.bar(ind-width, y1, width=0.15, color='b', align='center')\n",
    "ax.bar(ind+width, y2, width=0.15, color='g', align='center')\n",
    "ax.set_ylabel(\"Ratio in %\")\n",
    "ax.set_title('Salary of Hobbyists vs no Hobbyist')\n",
    "plt.xticks(ind, Sat_Labels, rotation=25)\n",
    "plt.legend(Legende_Hobby,loc=0)\n",
    "plt.savefig(\"Salary of Hobbyists vs no Hobbyist.png\")"
   ]
  },
  {
   "cell_type": "code",
   "execution_count": 647,
   "metadata": {},
   "outputs": [],
   "source": [
    "# analysis salary over Age hobbyist vs no hobbyist"
   ]
  },
  {
   "cell_type": "code",
   "execution_count": 648,
   "metadata": {},
   "outputs": [],
   "source": [
    "new_df=results_public_US"
   ]
  },
  {
   "cell_type": "code",
   "execution_count": 649,
   "metadata": {},
   "outputs": [
    {
     "data": {
      "text/plain": [
       "array([31. , 29. , 27. , 40. , 62. , 35. , 53. , 54. , 28. , 26. , 37. ,\n",
       "       38. , 51. ,  nan, 30. , 42. , 32. , 33. , 39. , 44. , 36. , 50. ,\n",
       "       43. , 48. , 46. , 41. , 45. , 58. , 59. , 52. , 23. , 22. , 56. ,\n",
       "       49. , 24. , 34. , 25. , 55. , 61. , 21. , 57. , 20. , 65. , 47. ,\n",
       "       63. , 60. , 71. , 64. , 66. , 67. , 18. , 69. , 19. , 72. , 37.5,\n",
       "       68. , 16. , 99. , 74. , 70. , 15. ,  2. , 24.5, 26.5, 61.3, 17. ,\n",
       "       31.5,  1. ])"
      ]
     },
     "execution_count": 649,
     "metadata": {},
     "output_type": "execute_result"
    }
   ],
   "source": [
    "new_df['Age'].unique()"
   ]
  },
  {
   "cell_type": "code",
   "execution_count": 650,
   "metadata": {},
   "outputs": [],
   "source": [
    "# create age ranges\n",
    "def f(row):\n",
    "    if row['Age'] <= 25:\n",
    "        val = '0-25y'\n",
    "    elif row['Age'] <= 35:\n",
    "        val = '25-35y'\n",
    "    elif row['Age'] <= 45:\n",
    "        val = '35-45y'\n",
    "    elif row['Age'] <= 55:\n",
    "        val = '45-55y'\n",
    "    elif row['Age'] <= 65:\n",
    "        val = '55-65y'\n",
    "    else:\n",
    "        val = 'over 65y'\n",
    "    return val"
   ]
  },
  {
   "cell_type": "code",
   "execution_count": 651,
   "metadata": {},
   "outputs": [],
   "source": [
    "results_public_US['Age-group'] = results_public_US.apply(f, axis=1)"
   ]
  },
  {
   "cell_type": "code",
   "execution_count": 652,
   "metadata": {
    "scrolled": true
   },
   "outputs": [
    {
     "data": {
      "image/png": "[encoded data removed]",
      "text/plain": [
       "<Figure size 576x432 with 1 Axes>"
      ]
     },
     "metadata": {
      "needs_background": "light"
     },
     "output_type": "display_data"
    }
   ],
   "source": [
    "fig = plt.figure(figsize=(8, 6)) \n",
    "#ax = plt.subplots()\n",
    "sns_plot = sns.boxplot(x=new_df[\"Age-group\"], y=new_df[\"ConvertedComp\"], hue=\"Hobbyist\", data=new_df, showfliers = False, order=['0-25y','25-35y','35-45y','45-55y','55-65y','over 65y'])\n",
    "#sns_plot.set(ylim=(50, 70))\n",
    "sns_plot.set_title('Salaries of Hobbyist vs no Hobbyist by age-group')\n",
    "plt.ylabel('Total compansation in $')\n",
    "plt.xlabel('Age Group')\n",
    "#plt.savefig(\"\"+date+\"_M_Kapa_kmRange_2014_2015.png\")\n",
    "#plt.show()\n",
    "plt.savefig(\"Salaries of Hobbyist vs no Hobbyist by age-group.png\")"
   ]
  },
  {
   "cell_type": "code",
   "execution_count": 653,
   "metadata": {},
   "outputs": [],
   "source": [
    "# looking at this plot, everything over 250k$ seems to be an aoutlier. So I change the older plot accordingly"
   ]
  }
 ],
 "metadata": {
  "kernelspec": {
   "display_name": "Python 3",
   "language": "python",
   "name": "python3"
  },
  "language_info": {
   "codemirror_mode": {
    "name": "ipython",
    "version": 3
   },
   "file_extension": ".py",
   "mimetype": "text/x-python",
   "name": "python",
   "nbconvert_exporter": "python",
   "pygments_lexer": "ipython3",
   "version": "3.7.3"
  }
 },
 "nbformat": 4,
 "nbformat_minor": 2
}
